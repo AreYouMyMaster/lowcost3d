{
 "cells": [
  {
   "cell_type": "code",
   "execution_count": 1,
   "id": "9bfbd5a9d5db4fb",
   "metadata": {
    "collapsed": false,
    "is_executing": true,
    "jupyter": {
     "outputs_hidden": false
    },
    "tags": []
   },
   "outputs": [
    {
     "name": "stdout",
     "output_type": "stream",
     "text": [
      "Jupyter environment detected. Enabling Open3D WebVisualizer.\n",
      "[Open3D INFO] WebRTC GUI backend enabled.\n",
      "[Open3D INFO] WebRTCWindowSystem: HTTP handshake server disabled.\n",
      "[Open3D INFO] Resetting default logger to print to terminal.\n"
     ]
    },
    {
     "name": "stderr",
     "output_type": "stream",
     "text": [
      "Exception in thread Thread-4:\n",
      "Traceback (most recent call last):\n",
      "  File \"/usr/lib/python3.8/threading.py\", line 932, in _bootstrap_inner\n",
      "    self.run()\n",
      "  File \"/usr/local/lib/python3.8/dist-packages/ipykernel/ipkernel.py\", line 761, in run_closure\n",
      "    _threading_Thread_run(self)\n",
      "  File \"/usr/lib/python3.8/threading.py\", line 870, in run\n",
      "    self._target(*self._args, **self._kwargs)\n",
      "  File \"/usr/local/lib/python3.8/dist-packages/open3d/web_visualizer.py\", line 145, in _thread_main\n",
      "    retval = task.func()\n",
      "  File \"/usr/local/lib/python3.8/dist-packages/open3d/visualization/draw.py\", line 45, in draw\n",
      "    add(g, n)\n",
      "  File \"/usr/local/lib/python3.8/dist-packages/open3d/visualization/draw.py\", line 40, in add\n",
      "    w.add_geometry(\"Object \" + str(n), g)\n",
      "RuntimeError: Caught an unknown exception!\n"
     ]
    }
   ],
   "source": [
    "import open3d as o3d\n",
    "import numpy as np\n",
    "from open3d.web_visualizer import draw"
   ]
  },
  {
   "cell_type": "code",
   "execution_count": null,
   "id": "821322dbbafbe960",
   "metadata": {
    "collapsed": false,
    "jupyter": {
     "outputs_hidden": false
    },
    "tags": []
   },
   "outputs": [
    {
     "name": "stdout",
     "output_type": "stream",
     "text": [
      "[Open3D INFO] Window window_0 created.\n",
      "[Open3D INFO] EGL headless mode enabled.\n",
      "[Open3D INFO] ICE servers: {\"stun:stun.l.google.com:19302\", \"turn:user:password@34.69.27.100:3478\", \"turn:user:password@34.69.27.100:3478?transport=tcp\"}\n",
      "FEngine (64 bits) created at 0x7f065c028010 (threading is enabled)\n",
      "[Open3D INFO] Set WEBRTC_STUN_SERVER environment variable add a customized WebRTC STUN server.\n",
      "[Open3D INFO] WebRTC Jupyter handshake mode enabled.\n",
      "EGL(1.5)\n",
      "OpenGL(4.5)\n"
     ]
    },
    {
     "name": "stderr",
     "output_type": "stream",
     "text": [
      "N5utils18PostconditionPanicE\n",
      "in RenderableManager::Builder::Result filament::RenderableManager::Builder::build(filament::Engine &, utils::Entity):236\n",
      "reason: [entity=51] AABB can't be empty, unless culling is disabled and the object is not a shadow caster/receiver\n",
      "#0\tpybind.cpython-38-x86_64-linux-gnu.so     0x7f06ba06f060 _ZN5utils6TPanicINS_18PostconditionPanicEE5panicEPKcS4_iS4_z + 336\n",
      "#1\tpybind.cpython-38-x86_64-linux-gnu.so     0x7f06b9fc87f1 (null) + 139666866866161\n",
      "#2\tpybind.cpython-38-x86_64-linux-gnu.so     0x7f06b9335ab4 _ZN6open3d13visualization9rendering13FilamentScene26CreateAndAddFilamentEntityERKSsRNS1_22GeometryBuffersBuilderERN8filament3BoxENS1_8REHandleILNS1_10EntityTypeE12EEENSA_ILSB_13EEERKNS1_8MaterialENS2_11BufferReuseE + 532\n",
      "#3\tpybind.cpython-38-x86_64-linux-gnu.so     0x7f06b93368b8 _ZN6open3d13visualization9rendering13FilamentScene11AddGeometryERKSsRKNS_8geometry10Geometry3DERKNS1_8MaterialES4_m + 440\n",
      "#4\tpybind.cpython-38-x86_64-linux-gnu.so     0x7f06b931bc48 _ZN6open3d13visualization9rendering11Open3DScene11AddGeometryERKSsPKNS_8geometry10Geometry3DERKNS1_8MaterialEb + 136\n",
      "#5\tpybind.cpython-38-x86_64-linux-gnu.so     0x7f06b92d3399 _ZN6open3d13visualization10visualizer13O3DVisualizer4Impl11AddGeometryERKSsSt10shared_ptrINS_8geometry10Geometry3DEES6_INS_1t8geometry8GeometryEES6_INS0_9rendering17TriangleMeshModelEEPKNSE_8MaterialES5_db + 1641\n",
      "#6\tpybind.cpython-38-x86_64-linux-gnu.so     0x7f06b92c739d _ZN6open3d13visualization10visualizer13O3DVisualizer11AddGeometryERKSsSt10shared_ptrINS_8geometry10Geometry3DEEPKNS0_9rendering8MaterialES4_db + 125\n",
      "#7\tpybind.cpython-38-x86_64-linux-gnu.so     0x7f06b8f48ffd (null) + 139666849566717\n",
      "#8\tpybind.cpython-38-x86_64-linux-gnu.so     0x7f06b8b1751a (null) + 139666845168922\n",
      "#9\tpython3                                   0x5d5499 PyCFunction_Call + 89\n",
      "#10\tpython3                                   0x5d6066 _PyObject_MakeTpCall + 662\n",
      "#11\tpython3                                   0x4e22b3 (null) + 5120691\n",
      "#12\tpython3                                   0x54c8a9 _PyEval_EvalFrameDefault + 23913\n",
      "#13\tpython3                                   0x54552a _PyEval_EvalCodeWithName + 618\n",
      "#14\tpython3                                   0x5d5a23 _PyFunction_Vectorcall + 915\n",
      "#15\tpython3                                   0x547265 _PyEval_EvalFrameDefault + 1829\n",
      "#16\tpython3                                   0x54552a _PyEval_EvalCodeWithName + 618\n",
      "#17\tpython3                                   0x5d5a23 _PyFunction_Vectorcall + 915\n",
      "\n",
      "\n"
     ]
    }
   ],
   "source": [
    "# Input\n",
    "points = np.array([[1, 1, 1]])\n",
    "colors = np.array([[0.5, 0.25, 0.25]])\n",
    "\n",
    "# Visualization\n",
    "pcd = o3d.geometry.PointCloud()\n",
    "pcd.points = o3d.utility.Vector3dVector(points)\n",
    "pcd.colors = o3d.utility.Vector3dVector(colors)\n",
    "draw([pcd])"
   ]
  },
  {
   "cell_type": "code",
   "execution_count": null,
   "id": "c7bdfc5e-3f6f-4207-bdb6-42ad53a2774c",
   "metadata": {},
   "outputs": [],
   "source": []
  }
 ],
 "metadata": {
  "kernelspec": {
   "display_name": "Python 3 (ipykernel)",
   "language": "python",
   "name": "python3"
  },
  "language_info": {
   "codemirror_mode": {
    "name": "ipython",
    "version": 3
   },
   "file_extension": ".py",
   "mimetype": "text/x-python",
   "name": "python",
   "nbconvert_exporter": "python",
   "pygments_lexer": "ipython3",
   "version": "3.8.10"
  }
 },
 "nbformat": 4,
 "nbformat_minor": 5
}
