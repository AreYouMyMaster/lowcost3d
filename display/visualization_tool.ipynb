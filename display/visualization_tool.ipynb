{
 "cells": [
  {
   "cell_type": "code",
   "execution_count": 1,
   "id": "9bfbd5a9d5db4fb",
   "metadata": {
    "collapsed": false,
    "is_executing": true,
    "jupyter": {
     "outputs_hidden": false
    },
    "tags": []
   },
   "outputs": [
    {
     "name": "stdout",
     "output_type": "stream",
     "text": [
      "Jupyter environment detected. Enabling Open3D WebVisualizer.\n",
      "[Open3D INFO] WebRTC GUI backend enabled.\n",
      "[Open3D INFO] WebRTCWindowSystem: HTTP handshake server disabled.\n",
      "[Open3D INFO] Resetting default logger to print to terminal.\n"
     ]
    }
   ],
   "source": [
    "import sys\n",
    "import numpy as np\n",
    "import open3d as o3d\n",
    "from open3d.web_visualizer import draw\n",
    "\n",
    "sys.path.append(\"/workspace\")\n",
    "from utils.io import read_glb_meshes"
   ]
  },
  {
   "cell_type": "code",
   "execution_count": 2,
   "id": "821322dbbafbe960",
   "metadata": {
    "collapsed": false,
    "jupyter": {
     "outputs_hidden": false
    },
    "tags": []
   },
   "outputs": [
    {
     "name": "stdout",
     "output_type": "stream",
     "text": [
      "[Open3D INFO] Window window_0 created.\n",
      "[Open3D INFO] EGL headless mode enabled.\n",
      "[Open3D INFO] ICE servers: [\"stun:stun.l.google.com:19302\", \"turn:user:password@34.69.27.100:3478\", \"turn:user:password@34.69.27.100:3478?transport=tcp\"]\n",
      "FEngine (64 bits) created at 0x7fcb29476010 (threading is enabled)\n",
      "[Open3D INFO] Set WEBRTC_STUN_SERVER environment variable add a customized WebRTC STUN server.\n",
      "[Open3D INFO] WebRTC Jupyter handshake mode enabled.\n"
     ]
    },
    {
     "data": {
      "application/vnd.jupyter.widget-view+json": {
       "model_id": "f2feb3b4a991453298e2e67619ec1ec7",
       "version_major": 2,
       "version_minor": 0
      },
      "text/plain": [
       "WebVisualizer(window_uid='window_0')"
      ]
     },
     "metadata": {},
     "output_type": "display_data"
    }
   ],
   "source": [
    "cube_red = o3d.geometry.TriangleMesh.create_box(1, 2, 4)\n",
    "cube_red.compute_vertex_normals()\n",
    "cube_red.paint_uniform_color((1.0, 0.0, 0.0))\n",
    "draw(cube_red)"
   ]
  },
  {
   "cell_type": "code",
   "execution_count": 3,
   "id": "c7bdfc5e-3f6f-4207-bdb6-42ad53a2774c",
   "metadata": {},
   "outputs": [
    {
     "name": "stdout",
     "output_type": "stream",
     "text": [
      "SM_YamahaMSP3_v2_MI_YamahaMSP3_Base_0 (3, 1115)\n",
      "SM_YamahaMSP3_v2_MI_YamahaMSP3_BrushedMetal_0 (3, 546)\n",
      "SM_YamahaMSP3_v2_MI_YamahaMSP3_Glossyblack_0 (3, 142)\n",
      "SM_YamahaMSP3_v2_MI_YamahaMSP3_MatteBlack_0 (3, 2139)\n",
      "SM_YamahaMSP3_v2_MI_YamahaMSP3_RearMain_0 (3, 58)\n",
      "SM_YamahaMSP3_v2_MI_YamahaMSP3_RearPlug_0 (3, 388)\n",
      "SM_YamahaMSP3_v2_MI_YamahaMSP3_Screws_0 (3, 2448)\n",
      "SM_YamahaMSP3_v2_MI_YamahaMSP3_SpeakerGrid_0 (3, 165)\n",
      "SM_YamahaMSP3_v2_MI_YamahaMSP3_SpeakersDials_0 (3, 12)\n",
      "(3, 7013)\n",
      "PointCloud with 7013 points.\n",
      "EGL(1.5)\n",
      "OpenGL(4.5)\n",
      "[Open3D INFO] Window window_1 created.\n"
     ]
    },
    {
     "data": {
      "application/vnd.jupyter.widget-view+json": {
       "model_id": "ab3e31dfcd874eea8a6e9d4b06da4fb9",
       "version_major": 2,
       "version_minor": 0
      },
      "text/plain": [
       "WebVisualizer(window_uid='window_1')"
      ]
     },
     "metadata": {},
     "output_type": "display_data"
    }
   ],
   "source": [
    "OBJAVERSE_SAMPLE = \"/rawdata3/objaverse/hf-objaverse-v1/glbs/000-000/0000ecca9a234cae994be239f6fec552.glb\"\n",
    "vertices = read_glb_meshes(OBJAVERSE_SAMPLE)\n",
    "pts = []\n",
    "for name, vertex in sorted(vertices.items()):\n",
    "    print(name, vertex.shape)\n",
    "    pts.append(vertex)\n",
    "pts = np.hstack(pts)\n",
    "print(pts.shape)\n",
    "\n",
    "# visualization\n",
    "pcd = o3d.geometry.PointCloud()\n",
    "pcd.points = o3d.utility.Vector3dVector(pts.T)\n",
    "print(pcd)\n",
    "draw([pcd])"
   ]
  },
  {
   "cell_type": "code",
   "execution_count": null,
   "id": "69096761-c3cb-49ed-bb02-d61977e2c454",
   "metadata": {},
   "outputs": [],
   "source": []
  }
 ],
 "metadata": {
  "kernelspec": {
   "display_name": "Python 3 (ipykernel)",
   "language": "python",
   "name": "python3"
  },
  "language_info": {
   "codemirror_mode": {
    "name": "ipython",
    "version": 3
   },
   "file_extension": ".py",
   "mimetype": "text/x-python",
   "name": "python",
   "nbconvert_exporter": "python",
   "pygments_lexer": "ipython3",
   "version": "3.10.12"
  }
 },
 "nbformat": 4,
 "nbformat_minor": 5
}
